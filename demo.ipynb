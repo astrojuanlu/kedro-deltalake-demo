{
 "cells": [
  {
   "cell_type": "markdown",
   "metadata": {},
   "source": [
    "# Kedro Delta Lake demo\n",
    "\n",
    "![Kedro](./static/kedro-horizontal-color-on-light.png)\n",
    "\n",
    "Example inspired by https://web.archive.org/web/20230202153818/https://www.databricks.com/notebooks/delta-lake-cdf.html (later adapted at https://gist.github.com/astrojuanlu/41add9bb28f11a220496f9ead1943deb)"
   ]
  },
  {
   "cell_type": "markdown",
   "metadata": {},
   "source": [
    "## Why Delta Lake?\n",
    "\n",
    "https://delta.io/\n",
    "\n",
    "- ACID (atomicity, consistency, isolation, durability)\n",
    "- Time travel (versioning)\n",
    "- Audit log (change data feed)\n",
    "- Schema evolution/enforcement\n",
    "- Merge/UPSERT (update + insert)\n",
    "- And more!\n",
    "\n",
    "![Delta Lake structure](./static/delta-lake-structure.png)"
   ]
  },
  {
   "cell_type": "markdown",
   "metadata": {},
   "source": [
    "## First steps"
   ]
  },
  {
   "cell_type": "code",
   "execution_count": null,
   "metadata": {},
   "outputs": [],
   "source": [
    "import polars as pl"
   ]
  },
  {
   "cell_type": "code",
   "execution_count": null,
   "metadata": {},
   "outputs": [],
   "source": [
    "eps_march = pl.read_csv(\"data/eps_bronze_03-march.csv\")\n",
    "eps_march.head()"
   ]
  },
  {
   "cell_type": "markdown",
   "metadata": {},
   "source": [
    "You can write in Delta format locally:"
   ]
  },
  {
   "cell_type": "code",
   "execution_count": null,
   "metadata": {},
   "outputs": [],
   "source": [
    "eps_march.write_delta(\"data/_delta_test/eps_march\")"
   ]
  },
  {
   "cell_type": "code",
   "execution_count": null,
   "metadata": {},
   "outputs": [],
   "source": [
    "!tree data/_delta_test/eps_march/"
   ]
  },
  {
   "cell_type": "markdown",
   "metadata": {},
   "source": [
    "But going forward let's use an object storage system instead:"
   ]
  },
  {
   "cell_type": "code",
   "execution_count": null,
   "metadata": {},
   "outputs": [],
   "source": [
    "minio_credentials = {\n",
    "    \"AWS_ENDPOINT_URL\": \"http://127.0.0.1:9010\",\n",
    "    \"AWS_ACCESS_KEY_ID\": \"minioadmin\",\n",
    "    \"AWS_SECRET_ACCESS_KEY\": \"minioadmin\",\n",
    "}\n",
    "minio_storage_options = (\n",
    "    {\n",
    "        \"AWS_ALLOW_HTTP\": \"true\",\n",
    "        \"AWS_S3_ALLOW_UNSAFE_RENAME\": \"true\",  # Required for Delta writing\n",
    "        \"AWS_REGION\": \"us-east-1\",  # Boilerplate, see https://github.com/delta-io/delta-rs/issues/2377\n",
    "    }\n",
    "    | minio_credentials\n",
    ")"
   ]
  },
  {
   "cell_type": "code",
   "execution_count": null,
   "metadata": {},
   "outputs": [],
   "source": [
    "eps_march.write_delta(\n",
    "    \"s3://data/bronze_eps\",\n",
    "    storage_options=minio_storage_options,\n",
    "    delta_write_options={\n",
    "        \"configuration\": {\n",
    "            # We will use this later\n",
    "            \"delta.enableChangeDataFeed\": \"true\"\n",
    "        }\n",
    "    },\n",
    ")"
   ]
  },
  {
   "cell_type": "markdown",
   "metadata": {},
   "source": [
    "You can see the result in http://localhost:9011/browser/data/bronze_eps%2F."
   ]
  },
  {
   "cell_type": "markdown",
   "metadata": {},
   "source": [
    "## Time travel (versioning)\n",
    "\n",
    "Now let's try to overwrite the data with a new version:"
   ]
  },
  {
   "cell_type": "code",
   "execution_count": null,
   "metadata": {},
   "outputs": [],
   "source": [
    "eps_april = pl.read_csv(\"data/eps_bronze_04-april.csv\")\n",
    "eps_april"
   ]
  },
  {
   "cell_type": "markdown",
   "metadata": {},
   "source": [
    "If you try to write it to the same table, you will get an error:"
   ]
  },
  {
   "cell_type": "code",
   "execution_count": null,
   "metadata": {},
   "outputs": [],
   "source": [
    "eps_april.write_delta(\n",
    "    \"s3://data/bronze_eps\",\n",
    "    storage_options=minio_storage_options,\n",
    ")"
   ]
  },
  {
   "cell_type": "markdown",
   "metadata": {},
   "source": [
    "You need to allow overwriting the data with `mode=\"overwrite\"`:"
   ]
  },
  {
   "cell_type": "code",
   "execution_count": null,
   "metadata": {},
   "outputs": [],
   "source": [
    "eps_april.write_delta(\n",
    "    \"s3://data/bronze_eps\",\n",
    "    mode=\"overwrite\",  # <---- This!\n",
    "    storage_options=minio_storage_options,\n",
    ")"
   ]
  },
  {
   "cell_type": "markdown",
   "metadata": {},
   "source": [
    "Here is the interesting thing: you can now see the history of the table!"
   ]
  },
  {
   "cell_type": "code",
   "execution_count": null,
   "metadata": {},
   "outputs": [],
   "source": [
    "from deltalake import DeltaTable\n",
    "\n",
    "dt = DeltaTable(\"s3://data/bronze_eps\", storage_options=minio_storage_options)\n",
    "dt"
   ]
  },
  {
   "cell_type": "code",
   "execution_count": null,
   "metadata": {},
   "outputs": [],
   "source": [
    "dt.history()"
   ]
  },
  {
   "cell_type": "markdown",
   "metadata": {},
   "source": [
    "## Extra: Audit logs (change data feed)"
   ]
  },
  {
   "cell_type": "code",
   "execution_count": null,
   "metadata": {},
   "outputs": [],
   "source": [
    "df_changes = pl.from_arrow(dt.load_cdf().read_all())\n",
    "df_changes"
   ]
  }
 ],
 "metadata": {
  "kernelspec": {
   "display_name": ".venv",
   "language": "python",
   "name": "python3"
  },
  "language_info": {
   "codemirror_mode": {
    "name": "ipython",
    "version": 3
   },
   "file_extension": ".py",
   "mimetype": "text/x-python",
   "name": "python",
   "nbconvert_exporter": "python",
   "pygments_lexer": "ipython3",
   "version": "3.12.3"
  }
 },
 "nbformat": 4,
 "nbformat_minor": 2
}
